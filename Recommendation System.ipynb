{
  "nbformat": 4,
  "nbformat_minor": 0,
  "metadata": {
    "kernelspec": {
      "display_name": "Python 3",
      "language": "python",
      "name": "python3"
    },
    "language_info": {
      "codemirror_mode": {
        "name": "ipython",
        "version": 3
      },
      "file_extension": ".py",
      "mimetype": "text/x-python",
      "name": "python",
      "nbconvert_exporter": "python",
      "pygments_lexer": "ipython3",
      "version": "3.6.5"
    },
    "colab": {
      "name": "Recommendation System.ipynb",
      "provenance": []
    }
  },
  "cells": [
    {
      "cell_type": "code",
      "metadata": {
        "scrolled": true,
        "id": "1dZN9VXURDp3",
        "colab_type": "code",
        "colab": {},
        "outputId": "50f21041-7dce-4a45-fb10-f318cf280d0b"
      },
      "source": [
        "import numpy as np\n",
        "from tensorflow.keras import backend\n",
        "import pandas as pd\n",
        "import matplotlib.pyplot as plt\n",
        "import os\n",
        "import warnings\n",
        "\n",
        "from keras.layers import Input, Embedding, Flatten, Dot, Dense, Concatenate\n",
        "from keras.models import Model\n",
        "\n",
        "warnings.filterwarnings('ignore')\n",
        "%matplotlib inline"
      ],
      "execution_count": 0,
      "outputs": [
        {
          "output_type": "stream",
          "text": [
            "Using TensorFlow backend.\n"
          ],
          "name": "stderr"
        }
      ]
    },
    {
      "cell_type": "code",
      "metadata": {
        "id": "DtkNmwH_RDqP",
        "colab_type": "code",
        "colab": {}
      },
      "source": [
        "import pandas as pd\n",
        "dataset = pd.read_csv('goodbooks-10k/ratings.csv')"
      ],
      "execution_count": 0,
      "outputs": []
    },
    {
      "cell_type": "code",
      "metadata": {
        "id": "pCVIbEzXRDqd",
        "colab_type": "code",
        "colab": {},
        "outputId": "7d7a0ac3-3dbe-40e5-c63f-74b9fc56801e"
      },
      "source": [
        "dataset.head()"
      ],
      "execution_count": 0,
      "outputs": [
        {
          "output_type": "execute_result",
          "data": {
            "text/html": [
              "<div>\n",
              "<style scoped>\n",
              "    .dataframe tbody tr th:only-of-type {\n",
              "        vertical-align: middle;\n",
              "    }\n",
              "\n",
              "    .dataframe tbody tr th {\n",
              "        vertical-align: top;\n",
              "    }\n",
              "\n",
              "    .dataframe thead th {\n",
              "        text-align: right;\n",
              "    }\n",
              "</style>\n",
              "<table border=\"1\" class=\"dataframe\">\n",
              "  <thead>\n",
              "    <tr style=\"text-align: right;\">\n",
              "      <th></th>\n",
              "      <th>book_id</th>\n",
              "      <th>user_id</th>\n",
              "      <th>rating</th>\n",
              "    </tr>\n",
              "  </thead>\n",
              "  <tbody>\n",
              "    <tr>\n",
              "      <th>0</th>\n",
              "      <td>1</td>\n",
              "      <td>314</td>\n",
              "      <td>5</td>\n",
              "    </tr>\n",
              "    <tr>\n",
              "      <th>1</th>\n",
              "      <td>1</td>\n",
              "      <td>439</td>\n",
              "      <td>3</td>\n",
              "    </tr>\n",
              "    <tr>\n",
              "      <th>2</th>\n",
              "      <td>1</td>\n",
              "      <td>588</td>\n",
              "      <td>5</td>\n",
              "    </tr>\n",
              "    <tr>\n",
              "      <th>3</th>\n",
              "      <td>1</td>\n",
              "      <td>1169</td>\n",
              "      <td>4</td>\n",
              "    </tr>\n",
              "    <tr>\n",
              "      <th>4</th>\n",
              "      <td>1</td>\n",
              "      <td>1185</td>\n",
              "      <td>4</td>\n",
              "    </tr>\n",
              "  </tbody>\n",
              "</table>\n",
              "</div>"
            ],
            "text/plain": [
              "   book_id  user_id  rating\n",
              "0        1      314       5\n",
              "1        1      439       3\n",
              "2        1      588       5\n",
              "3        1     1169       4\n",
              "4        1     1185       4"
            ]
          },
          "metadata": {
            "tags": []
          },
          "execution_count": 3
        }
      ]
    },
    {
      "cell_type": "code",
      "metadata": {
        "id": "oi6O_33MRDqp",
        "colab_type": "code",
        "colab": {},
        "outputId": "27724b9b-d931-47f5-f2e7-3e13ba2f7b8d"
      },
      "source": [
        "dataset.shape"
      ],
      "execution_count": 0,
      "outputs": [
        {
          "output_type": "execute_result",
          "data": {
            "text/plain": [
              "(981756, 3)"
            ]
          },
          "metadata": {
            "tags": []
          },
          "execution_count": 4
        }
      ]
    },
    {
      "cell_type": "code",
      "metadata": {
        "id": "nunOOrUtRDqz",
        "colab_type": "code",
        "colab": {}
      },
      "source": [
        "from sklearn.model_selection import train_test_split\n",
        "train,test = train_test_split(dataset, test_size=0.2, random_state=42)"
      ],
      "execution_count": 0,
      "outputs": []
    },
    {
      "cell_type": "code",
      "metadata": {
        "id": "lQa6A67VRDq-",
        "colab_type": "code",
        "colab": {}
      },
      "source": [
        "train.head()"
      ],
      "execution_count": 0,
      "outputs": []
    },
    {
      "cell_type": "code",
      "metadata": {
        "id": "fbOecpt8RDrG",
        "colab_type": "code",
        "colab": {}
      },
      "source": [
        "test.head()"
      ],
      "execution_count": 0,
      "outputs": []
    },
    {
      "cell_type": "code",
      "metadata": {
        "id": "T46FpOpFRDrW",
        "colab_type": "code",
        "colab": {}
      },
      "source": [
        "n_users = len(dataset.user_id.unique())\n",
        "n_users"
      ],
      "execution_count": 0,
      "outputs": []
    },
    {
      "cell_type": "code",
      "metadata": {
        "id": "P7JUTsBIRDrf",
        "colab_type": "code",
        "colab": {}
      },
      "source": [
        "n_books = len(dataset.book_id.unique())\n",
        "n_books"
      ],
      "execution_count": 0,
      "outputs": []
    },
    {
      "cell_type": "markdown",
      "metadata": {
        "id": "M7pUrq6tRDrn",
        "colab_type": "text"
      },
      "source": [
        "#### Creating Dot Product Model"
      ]
    },
    {
      "cell_type": "code",
      "metadata": {
        "id": "8-sD4Rw_RDrp",
        "colab_type": "code",
        "colab": {}
      },
      "source": [
        "# creating book embedding path\n",
        "book_input = Input(shape=[1], name=\"Book-Input\") \n",
        "book_embedding = Embedding(n_books+1, 5, name=\"Book-Embedding\")(book_input)\n",
        "book_vec = Flatten(name=\"Flatten-Books\")(book_embedding)\n",
        "\n",
        "# creating user embedding path\n",
        "user_input = Input(shape=[1], name=\"User-Input\")\n",
        "user_embedding = Embedding(n_users+1, 5, name=\"User-Embedding\")(user_input)\n",
        "user_vec = Flatten(name=\"Flatten-Users\")(user_embedding)\n",
        "\n",
        "# performing dot product and creating model\n",
        "prod = Dot(name=\"Dot-Product\", axes=1)([book_vec, user_vec])\n",
        "model = Model([user_input, book_input], prod)\n",
        "model.compile('adam', 'mean_squared_error')"
      ],
      "execution_count": 0,
      "outputs": []
    },
    {
      "cell_type": "code",
      "metadata": {
        "id": "U2AAy45ARDrz",
        "colab_type": "code",
        "colab": {}
      },
      "source": [
        "from keras.models import load_model\n",
        "\n",
        "if os.path.exists('regression_model.h5'):\n",
        "    model = load_model('regression_model.h5')\n",
        "else:\n",
        "    history = model.fit([train.user_id, train.book_id], train.rating, epochs=5, verbose=1)\n",
        "    model.save('regression_model.h5')\n",
        "    plt.plot(history.history['loss'])\n",
        "    plt.xlabel(\"Epochs\")\n",
        "    plt.ylabel(\"Training Error\")"
      ],
      "execution_count": 0,
      "outputs": []
    },
    {
      "cell_type": "code",
      "metadata": {
        "id": "52ivamh8RDr7",
        "colab_type": "code",
        "colab": {}
      },
      "source": [
        "model.evaluate([test.user_id, test.book_id], test.rating)"
      ],
      "execution_count": 0,
      "outputs": []
    },
    {
      "cell_type": "code",
      "metadata": {
        "id": "pLD0-7b-RDsD",
        "colab_type": "code",
        "colab": {}
      },
      "source": [
        "predictions = model.predict([test.user_id.head(10), test.book_id.head(10)])\n",
        "\n",
        "[print(predictions[i], test.rating.iloc[i]) for i in range(0,10)]"
      ],
      "execution_count": 0,
      "outputs": []
    },
    {
      "cell_type": "markdown",
      "metadata": {
        "id": "s7s3BXhoRDsI",
        "colab_type": "text"
      },
      "source": [
        "#### Creating Neural Network"
      ]
    },
    {
      "cell_type": "code",
      "metadata": {
        "id": "CXatE5ulRDsK",
        "colab_type": "code",
        "colab": {}
      },
      "source": [
        "# creating book embedding path\n",
        "book_input = Input(shape=[1], name=\"Book-Input\")\n",
        "book_embedding = Embedding(n_books+1, 5, name=\"Book-Embedding\")(book_input)\n",
        "book_vec = Flatten(name=\"Flatten-Books\")(book_embedding)\n",
        "\n",
        "# creating user embedding path\n",
        "user_input = Input(shape=[1], name=\"User-Input\")\n",
        "user_embedding = Embedding(n_users+1, 5, name=\"User-Embedding\")(user_input)\n",
        "user_vec = Flatten(name=\"Flatten-Users\")(user_embedding)\n",
        "\n",
        "# concatenate features\n",
        "conc = Concatenate()([book_vec, user_vec])\n",
        "\n",
        "# add fully-connected-layers\n",
        "fc1 = Dense(128, activation='relu')(conc)\n",
        "fc2 = Dense(32, activation='relu')(fc1)\n",
        "out = Dense(1)(fc2)\n",
        "\n",
        "# Create model and compile it\n",
        "model2 = Model([user_input, book_input], out)\n",
        "model2.compile('adam', 'mean_squared_error')"
      ],
      "execution_count": 0,
      "outputs": []
    },
    {
      "cell_type": "code",
      "metadata": {
        "id": "hkCYT-hBRDsR",
        "colab_type": "code",
        "colab": {}
      },
      "source": [
        "from keras.models import load_model\n",
        "\n",
        "if os.path.exists('regression_model2.h5'):\n",
        "    model2 = load_model('regression_model2.h5')\n",
        "else:\n",
        "    history = model2.fit([train.user_id, train.book_id], train.rating, epochs=5, verbose=1)\n",
        "    model2.save('regression_model2.h5')\n",
        "    plt.plot(history.history['loss'])\n",
        "    plt.xlabel(\"Epochs\")\n",
        "    plt.ylabel(\"Training Error\")"
      ],
      "execution_count": 0,
      "outputs": []
    }
  ]
}